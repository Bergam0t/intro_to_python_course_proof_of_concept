{
  "cells": [
    {
      "cell_type": "raw",
      "metadata": {},
      "source": [
        "--- \n",
        "title: \"Your First Python Code\"\n",
        "format: \n",
        "    html:\n",
        "        grid:\n",
        "            sidebar-width: 150px\n",
        "            body-width: 1600px\n",
        "            margin-width: 0px\n",
        "            gutter-width: 1.5rem\n",
        "        sidebar:\n",
        "          style: \"floating\"\n",
        "filters:\n",
        "  - pyodide\n",
        "--- "
      ],
      "id": "3b579676"
    },
    {
      "cell_type": "markdown",
      "metadata": {},
      "source": [
        "Welcome to the first page of the course! Click on the headings below to move through the different exercises.\n",
        "\n",
        "::: {.panel-tabset}\n",
        "\n",
        "# print()\n",
        "\n",
        "::: {.grid}\n",
        "\n",
        "::: {.g-col-6}\n",
        "\n",
        "Now - let's start where it's traditional (and useful!) to start - printing an output out!\n",
        "\n",
        "We can do this with the `print()` function.\n",
        "\n",
        "In Python, a **function** will always be followed by a pair of brackets. Usually - but not always - you'll put something in them!\n",
        "\n",
        "Now, imagine I wanted to print the word **dog** as my output. \n",
        "\n",
        "The way I do this is `print(\"dog\")`\n",
        "\n",
        "Notice that I surrounded the word **dog** with quotation marks. This is so Python doesn't start trying to work out what 'cat' is - instead it just recognises that it is a **string** - basically just a bit of text! \n",
        "\n",
        ":::\n",
        "\n",
        "Print out the following words: **This is the first thing I'm printing on the Python course**. \n",
        "  \n",
        "::: {.g-col-6}\n",
        "\n",
        "```{pyodide-python}\n",
        "print(______________________)\n",
        "```\n",
        "\n",
        ":::\n",
        "\n",
        ":::  \n",
        "\n",
        "::: {.callout-tip collapse=\"true\"}\n",
        "## Click here for a hint\n",
        "\n",
        "Remember - you need to follow the structure `print(\"the words I want to print\")`\n",
        "\n",
        "Make sure you wrap your words in quotation marks inside the brackets!\n",
        ":::\n",
        "  \n",
        "\n",
        "::: {.callout-note collapse=\"true\"}\n",
        "## Click here for the solution\n",
        "\n",
        "```{pyodide-python}\n",
        "print(\"dog\")\n",
        "```\n",
        ":::\n",
        "\n",
        "\n",
        "\n",
        "# Variables\n",
        "\n",
        "::: {.grid}\n",
        "\n",
        "::: {.g-col-6}\n",
        "\n",
        "Often when you are doing some code, you'll want to be able to refer to the same thing multiple times - but not have to write it out each time. \n",
        "\n",
        "For example, you might want to b e able to store the location of a file - then \n",
        "\n",
        "So how can we do this? We can use an equals sign to *assign* the value of something to some kind of identifier. \n",
        "\n",
        "For example, I could write \n"
      ],
      "id": "d5fd4cf6"
    },
    {
      "cell_type": "code",
      "metadata": {},
      "source": [
        "name = \"Bob\""
      ],
      "id": "ce64ab3f",
      "execution_count": null,
      "outputs": []
    },
    {
      "cell_type": "markdown",
      "metadata": {},
      "source": [
        "to create a **variable** called *name* with a **value** of *Bob*. \n",
        "\n",
        "The magic is now I can print the value of the **variable** - and it doesn't print out `name`. Instead, it prints out `Bob` - because by *assigning* the value `Bob` to `name`, Python now knows that we actually want `Bob`! \n"
      ],
      "id": "0de2faf0"
    },
    {
      "cell_type": "code",
      "metadata": {},
      "source": [
        "print(name)"
      ],
      "id": "319f655d",
      "execution_count": null,
      "outputs": []
    },
    {
      "cell_type": "markdown",
      "metadata": {},
      "source": [
        "Now this starts getting really powerful when we use it multiple times throughout our code.\n"
      ],
      "id": "73f7baa7"
    },
    {
      "cell_type": "code",
      "metadata": {},
      "source": [
        "print(\"Hello\"  + name)\n",
        "print(\"What can I do for you today \" + name + \"?\")"
      ],
      "id": "ba87a0a3",
      "execution_count": null,
      "outputs": []
    },
    {
      "cell_type": "markdown",
      "metadata": {},
      "source": [
        ":::\n",
        "\n",
        "The author of this course has a very daft dog called Monty. So let's assign his name to the **variable** `dog`.\n",
        "\n",
        "We'll then compare what happens when we run `print(\"dog\")` and `print(dog)`. \n",
        "\n",
        "::: {.g-col-6}\n",
        "\n",
        "```{pyodide-python}\n",
        "dog = ____________\n",
        "print(\"dog\")\n",
        "print(dog)\n",
        "```\n",
        "\n",
        ":::\n",
        "\n",
        ":::  \n",
        "\n",
        "::: {.callout-tip collapse=\"true\"}\n",
        "## Click here for a hint\n",
        "\n",
        "Remember - `\"monty\"` is different to `monty`.\n",
        "\n",
        "You can use single quotation marks or double as long as they match. \n",
        "\n",
        "`\"dog\"` or `'dog'` will work. \n",
        "\n",
        "If you try copying and pasting quotation marks in from a program like Word, they might be 'curly' quotes - ones that have been made prettier for a document - and code doesn't like that! This is something to watch out for further down the line. \n",
        "\n",
        ":::\n",
        "\n",
        "\n",
        "::: {.callout-note collapse=\"true\"}\n",
        "## Click here for the solution\n",
        "\n",
        "```{pyodide-python}\n",
        "dog = \"Monty\"\n",
        "print(\"dog\")\n",
        "print(dog)\n",
        "```\n",
        ":::\n"
      ],
      "id": "dcf8713b"
    }
  ],
  "metadata": {
    "kernelspec": {
      "display_name": "Python 3",
      "language": "python",
      "name": "python3"
    }
  },
  "nbformat": 4,
  "nbformat_minor": 5
}